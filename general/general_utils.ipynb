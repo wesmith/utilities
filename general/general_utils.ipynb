{
 "cells": [
  {
   "cell_type": "markdown",
   "id": "61645675-488e-41d5-bc21-12b9b8234f64",
   "metadata": {},
   "source": [
    "# general_utils.ipynb\n",
    "# WESmith 08/04/23\n",
    "## decorators: see  https://www.youtube.com/watch?v=WpF6azYAxYg"
   ]
  },
  {
   "cell_type": "code",
   "execution_count": null,
   "id": "37d29ecc-b7ed-4a13-add6-47ce4d37b855",
   "metadata": {},
   "outputs": [],
   "source": [
    "from functools import cache, wraps\n",
    "import logging, time\n",
    "import inspect # to be able to read default kwargs in a decorator\n",
    "# see https://stackoverflow.com/questions/34832573/python-decorator-to-display-passed-and-default-kwargs"
   ]
  },
  {
   "cell_type": "code",
   "execution_count": null,
   "id": "cade3350-a831-4821-b5ce-6a671457fc4a",
   "metadata": {},
   "outputs": [],
   "source": [
    "logging.basicConfig(level=logging.INFO)  # this is needed even though logging decorator sets it"
   ]
  },
  {
   "cell_type": "code",
   "execution_count": null,
   "id": "080d876e-c240-4295-b34d-d44cd06ad929",
   "metadata": {},
   "outputs": [],
   "source": [
    "# decorators\n",
    "\n",
    "def timer(f):\n",
    "    def wrapper(*args, **kwargs):\n",
    "        start  = time.time()\n",
    "        result = f(*args, **kwargs)\n",
    "        dt     = time.time() - start\n",
    "        print(f'time_to_run = {dt}')\n",
    "        return result\n",
    "    return wrapper\n",
    "\n",
    "def logging_decorator(func):  # WS mod: to read default kwargs needs 'inspect' module and some code\n",
    "    argspec          = inspect.getfullargspec(func)\n",
    "    positional_count = len(argspec.args) - len(argspec.defaults)\n",
    "    defaults         = dict(zip(argspec.args[positional_count:], argspec.defaults))\n",
    "    #print(f'argspec.args: {argspec.args}, argspec.defaults: {argspec.defaults}')\n",
    "    #print(f'defaults dict: {defaults}')\n",
    "    @wraps(func)\n",
    "    def wrapper(*args, **kwargs):\n",
    "        logger = logging.getLogger(func.__name__)\n",
    "        logger.setLevel(logging.INFO)  # this doesn't seem to work: need an external global setting\n",
    "        # ie: logging.basicConfig(level=logging.INFO)  # this is needed even though decorator sets it\n",
    "\n",
    "        used_kwargs = kwargs.copy()\n",
    "        # update used_kwargs if defaults have been overridden\n",
    "        used_kwargs.update(zip(argspec.args[positional_count:], args[positional_count:]))\n",
    "\n",
    "        # Call the original function and capture the return value\n",
    "        result = func(*args, **kwargs)\n",
    "\n",
    "        # Log the input arguments\n",
    "        dd = {k: used_kwargs.get(k, d) for k, d in defaults.items()}\n",
    "        logger.info(f\"Calling {func.__name__} with args: {args[:positional_count]}, kwargs: {dd}\")\n",
    "        \n",
    "        # Log the return value\n",
    "        logger.info(f\"{func.__name__} returned: {result}\")\n",
    "\n",
    "        return result\n",
    "\n",
    "    return wrapper"
   ]
  },
  {
   "cell_type": "code",
   "execution_count": null,
   "id": "90b1ff55-1c27-41a7-8465-3fdd1dea65a1",
   "metadata": {},
   "outputs": [],
   "source": [
    "# example function to time\n",
    "#@timer  # WS note: the decorator is always on if set here\n",
    "# can instead create a new function pf_time = timer(prime_factors);\n",
    "# there are ways to turn decorators on/off, but this requires more code\n",
    "def prime_factors(n):\n",
    "    factors = []\n",
    "    divisor = 2\n",
    "    \n",
    "    while n > 1:\n",
    "        while n % divisor == 0:\n",
    "            factors.append(divisor)\n",
    "            n //= divisor\n",
    "        divisor += 1\n",
    "\n",
    "    return factors"
   ]
  },
  {
   "cell_type": "code",
   "execution_count": null,
   "id": "4638b9f8-88af-4d26-a39f-809c4dcbd637",
   "metadata": {},
   "outputs": [],
   "source": [
    "@cache # turn off to see difference in times below\n",
    "# with it on, fibonacci(33) was 10^6 times faster!\n",
    "def fibonacci(n):\n",
    "    if not isinstance(n, int) or n < 1:\n",
    "        raise ValueError(f'{n} is not a positive integer')\n",
    "    if n == 1 or n == 2:\n",
    "        return 1\n",
    "    else:\n",
    "        return fibonacci(n-1) + fibonacci(n-2)\n",
    "    \n",
    "def global_fibonacci(n): # define this for timer wrapper to work\n",
    "    return fibonacci(n)"
   ]
  },
  {
   "cell_type": "code",
   "execution_count": null,
   "id": "79d02d81-7516-47d4-96b3-ca162f800619",
   "metadata": {},
   "outputs": [],
   "source": [
    "prime_factors(2**9 + 1)"
   ]
  },
  {
   "cell_type": "code",
   "execution_count": null,
   "id": "e4448382-9063-418c-a3c4-2aad51d0fea4",
   "metadata": {},
   "outputs": [],
   "source": [
    "prime_factors(2**25 + 1)"
   ]
  },
  {
   "cell_type": "code",
   "execution_count": null,
   "id": "2ab2ba26-6222-4e35-9e5e-c761ed1ca454",
   "metadata": {
    "tags": []
   },
   "outputs": [],
   "source": [
    "# get all primes below a number (inefficient but useful demo)\n",
    "n  = 2**9 + 1\n",
    "pp = []\n",
    "for k in range(n):\n",
    "    dd = prime_factors(k)\n",
    "    if len(dd) == 1:\n",
    "        pp.append(dd[0])\n",
    "print(f'primes below {n}: {pp}')"
   ]
  },
  {
   "cell_type": "code",
   "execution_count": null,
   "id": "379bbcae-38df-47df-aec8-6b95d848b398",
   "metadata": {},
   "outputs": [],
   "source": [
    "# calling decorator explicitly (see comments above definition of prime_factors())\n",
    "pf_timer = timer(prime_factors)\n",
    "pf_timer(2**29 + 1)"
   ]
  },
  {
   "cell_type": "raw",
   "id": "e75a9318-4f08-44d4-aa84-57c5e4efae53",
   "metadata": {},
   "source": [
    "# this doesn't work: the '@' decorator must be used at function definition\n",
    "@timer\n",
    "prime_factors(10)"
   ]
  },
  {
   "cell_type": "code",
   "execution_count": null,
   "id": "6bad785f-7d16-4b87-a99a-25d36b5e2a6f",
   "metadata": {},
   "outputs": [],
   "source": [
    "for i in range(1,10):\n",
    "    print(fibonacci(i))"
   ]
  },
  {
   "cell_type": "code",
   "execution_count": null,
   "id": "cfbf4760-44de-4794-8afb-4d98f6e7bbba",
   "metadata": {},
   "outputs": [],
   "source": [
    "fib_time = timer(global_fibonacci)\n",
    "for i in range(30,36):\n",
    "    nth_term = fib_time(i)\n",
    "    print(f'Fibonacci({i}) = {nth_term}')"
   ]
  },
  {
   "cell_type": "code",
   "execution_count": null,
   "id": "e22b7785-813d-4255-bffa-4d6e6e8db0bc",
   "metadata": {
    "tags": []
   },
   "outputs": [],
   "source": [
    "# Example usage of the decorator\n",
    "@logging_decorator\n",
    "def add(a, b, c=5, d='hello'):\n",
    "    return a + b + c\n",
    "\n",
    "@logging_decorator\n",
    "def multiply(a, b, c=5):\n",
    "    return a * b * c"
   ]
  },
  {
   "cell_type": "code",
   "execution_count": null,
   "id": "4e5c4276-8af0-4f7a-a9bf-fc9bebb01ef9",
   "metadata": {},
   "outputs": [],
   "source": [
    "result1 = add(3, 5, c=2, d='bye')\n",
    "print(\"Result of add function:\", result1)"
   ]
  },
  {
   "cell_type": "code",
   "execution_count": null,
   "id": "fcf735e0-4780-4931-ad99-f0f78ec570f0",
   "metadata": {},
   "outputs": [],
   "source": [
    "add(4,9)"
   ]
  },
  {
   "cell_type": "code",
   "execution_count": null,
   "id": "47394324-1576-4ebf-9f50-21adeae9c6df",
   "metadata": {},
   "outputs": [],
   "source": [
    "result2 = multiply(2, 4)\n",
    "print(\"Result of multiply function:\", result2)"
   ]
  },
  {
   "cell_type": "code",
   "execution_count": null,
   "id": "b629dbc8-8963-4714-b18b-debee723f301",
   "metadata": {},
   "outputs": [],
   "source": []
  }
 ],
 "metadata": {
  "kernelspec": {
   "display_name": "Python 3 (ipykernel)",
   "language": "python",
   "name": "python3"
  },
  "language_info": {
   "codemirror_mode": {
    "name": "ipython",
    "version": 3
   },
   "file_extension": ".py",
   "mimetype": "text/x-python",
   "name": "python",
   "nbconvert_exporter": "python",
   "pygments_lexer": "ipython3",
   "version": "3.10.12"
  }
 },
 "nbformat": 4,
 "nbformat_minor": 5
}
